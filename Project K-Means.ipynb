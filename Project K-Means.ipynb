{
 "cells": [
  {
   "cell_type": "code",
   "execution_count": 169,
   "metadata": {},
   "outputs": [],
   "source": [
    "import random \n",
    "import pandas as pd\n",
    "import numpy as np \n",
    "import matplotlib.pyplot as plt \n",
    "from sklearn.cluster import KMeans \n",
    "from sklearn.preprocessing import MinMaxScaler\n",
    "%matplotlib inline"
   ]
  },
  {
   "cell_type": "code",
   "execution_count": 170,
   "metadata": {},
   "outputs": [],
   "source": [
    "np.random.seed(0)"
   ]
  },
  {
   "cell_type": "code",
   "execution_count": 171,
   "metadata": {},
   "outputs": [
    {
     "data": {
      "text/html": [
       "<div>\n",
       "<style scoped>\n",
       "    .dataframe tbody tr th:only-of-type {\n",
       "        vertical-align: middle;\n",
       "    }\n",
       "\n",
       "    .dataframe tbody tr th {\n",
       "        vertical-align: top;\n",
       "    }\n",
       "\n",
       "    .dataframe thead th {\n",
       "        text-align: right;\n",
       "    }\n",
       "</style>\n",
       "<table border=\"1\" class=\"dataframe\">\n",
       "  <thead>\n",
       "    <tr style=\"text-align: right;\">\n",
       "      <th></th>\n",
       "      <th>Movie</th>\n",
       "      <th>Year</th>\n",
       "      <th>Ratings</th>\n",
       "      <th>Genre</th>\n",
       "      <th>Gross</th>\n",
       "      <th>Budget</th>\n",
       "      <th>Screens</th>\n",
       "      <th>Sequel</th>\n",
       "      <th>Sentiment</th>\n",
       "      <th>Views</th>\n",
       "      <th>Likes</th>\n",
       "      <th>Dislikes</th>\n",
       "      <th>Comments</th>\n",
       "      <th>Aggregate Followers</th>\n",
       "    </tr>\n",
       "  </thead>\n",
       "  <tbody>\n",
       "    <tr>\n",
       "      <th>0</th>\n",
       "      <td>13 Sins</td>\n",
       "      <td>2014.0</td>\n",
       "      <td>6.3</td>\n",
       "      <td>8.0</td>\n",
       "      <td>9130.0</td>\n",
       "      <td>4000000.0</td>\n",
       "      <td>45.0</td>\n",
       "      <td>1.0</td>\n",
       "      <td>0.0</td>\n",
       "      <td>3280543.0</td>\n",
       "      <td>4632.0</td>\n",
       "      <td>425.0</td>\n",
       "      <td>636.0</td>\n",
       "      <td>1120000.0</td>\n",
       "    </tr>\n",
       "    <tr>\n",
       "      <th>1</th>\n",
       "      <td>22 Jump Street</td>\n",
       "      <td>2014.0</td>\n",
       "      <td>7.1</td>\n",
       "      <td>1.0</td>\n",
       "      <td>192000000.0</td>\n",
       "      <td>50000000.0</td>\n",
       "      <td>3306.0</td>\n",
       "      <td>2.0</td>\n",
       "      <td>2.0</td>\n",
       "      <td>583289.0</td>\n",
       "      <td>3465.0</td>\n",
       "      <td>61.0</td>\n",
       "      <td>186.0</td>\n",
       "      <td>12350000.0</td>\n",
       "    </tr>\n",
       "    <tr>\n",
       "      <th>2</th>\n",
       "      <td>3 Days to Kill</td>\n",
       "      <td>2014.0</td>\n",
       "      <td>6.2</td>\n",
       "      <td>1.0</td>\n",
       "      <td>30700000.0</td>\n",
       "      <td>28000000.0</td>\n",
       "      <td>2872.0</td>\n",
       "      <td>1.0</td>\n",
       "      <td>0.0</td>\n",
       "      <td>304861.0</td>\n",
       "      <td>328.0</td>\n",
       "      <td>34.0</td>\n",
       "      <td>47.0</td>\n",
       "      <td>483000.0</td>\n",
       "    </tr>\n",
       "    <tr>\n",
       "      <th>3</th>\n",
       "      <td>300: Rise of an Empire</td>\n",
       "      <td>2014.0</td>\n",
       "      <td>6.3</td>\n",
       "      <td>1.0</td>\n",
       "      <td>106000000.0</td>\n",
       "      <td>110000000.0</td>\n",
       "      <td>3470.0</td>\n",
       "      <td>2.0</td>\n",
       "      <td>0.0</td>\n",
       "      <td>452917.0</td>\n",
       "      <td>2429.0</td>\n",
       "      <td>132.0</td>\n",
       "      <td>590.0</td>\n",
       "      <td>568000.0</td>\n",
       "    </tr>\n",
       "    <tr>\n",
       "      <th>4</th>\n",
       "      <td>A Haunted House 2</td>\n",
       "      <td>2014.0</td>\n",
       "      <td>4.7</td>\n",
       "      <td>8.0</td>\n",
       "      <td>17300000.0</td>\n",
       "      <td>3500000.0</td>\n",
       "      <td>2310.0</td>\n",
       "      <td>2.0</td>\n",
       "      <td>0.0</td>\n",
       "      <td>3145573.0</td>\n",
       "      <td>12163.0</td>\n",
       "      <td>610.0</td>\n",
       "      <td>1082.0</td>\n",
       "      <td>1923800.0</td>\n",
       "    </tr>\n",
       "  </tbody>\n",
       "</table>\n",
       "</div>"
      ],
      "text/plain": [
       "                    Movie    Year  Ratings  Genre        Gross       Budget  \\\n",
       "0                 13 Sins  2014.0      6.3    8.0       9130.0    4000000.0   \n",
       "1          22 Jump Street  2014.0      7.1    1.0  192000000.0   50000000.0   \n",
       "2          3 Days to Kill  2014.0      6.2    1.0   30700000.0   28000000.0   \n",
       "3  300: Rise of an Empire  2014.0      6.3    1.0  106000000.0  110000000.0   \n",
       "4       A Haunted House 2  2014.0      4.7    8.0   17300000.0    3500000.0   \n",
       "\n",
       "   Screens  Sequel  Sentiment      Views    Likes  Dislikes  Comments  \\\n",
       "0     45.0     1.0        0.0  3280543.0   4632.0     425.0     636.0   \n",
       "1   3306.0     2.0        2.0   583289.0   3465.0      61.0     186.0   \n",
       "2   2872.0     1.0        0.0   304861.0    328.0      34.0      47.0   \n",
       "3   3470.0     2.0        0.0   452917.0   2429.0     132.0     590.0   \n",
       "4   2310.0     2.0        0.0  3145573.0  12163.0     610.0    1082.0   \n",
       "\n",
       "   Aggregate Followers  \n",
       "0            1120000.0  \n",
       "1           12350000.0  \n",
       "2             483000.0  \n",
       "3             568000.0  \n",
       "4            1923800.0  "
      ]
     },
     "execution_count": 171,
     "metadata": {},
     "output_type": "execute_result"
    }
   ],
   "source": [
    "data = pd.read_csv(\"D://datasetfilm.csv\")\n",
    "data.head()"
   ]
  },
  {
   "cell_type": "code",
   "execution_count": 172,
   "metadata": {},
   "outputs": [
    {
     "name": "stdout",
     "output_type": "stream",
     "text": [
      "Bentuk dataset sebelum di cleaning:  3248\n"
     ]
    },
    {
     "data": {
      "text/plain": [
       "Movie                  True\n",
       "Year                   True\n",
       "Ratings                True\n",
       "Genre                  True\n",
       "Gross                  True\n",
       "Budget                 True\n",
       "Screens                True\n",
       "Sequel                 True\n",
       "Sentiment              True\n",
       "Views                  True\n",
       "Likes                  True\n",
       "Dislikes               True\n",
       "Comments               True\n",
       "Aggregate Followers    True\n",
       "dtype: bool"
      ]
     },
     "execution_count": 172,
     "metadata": {},
     "output_type": "execute_result"
    }
   ],
   "source": [
    "#Pre-processing\n",
    "#mengecek apakah ada data yang bernilai NUll & NAs(True)\n",
    "print (\"Bentuk dataset sebelum di cleaning: \", data.size)\n",
    "data.isna().any()"
   ]
  },
  {
   "cell_type": "code",
   "execution_count": 173,
   "metadata": {},
   "outputs": [
    {
     "name": "stdout",
     "output_type": "stream",
     "text": [
      "Bentuk dataset setelah di cleaning:  2618\n"
     ]
    },
    {
     "data": {
      "text/plain": [
       "Movie                  False\n",
       "Year                   False\n",
       "Ratings                False\n",
       "Genre                  False\n",
       "Gross                  False\n",
       "Budget                 False\n",
       "Screens                False\n",
       "Sequel                 False\n",
       "Sentiment              False\n",
       "Views                  False\n",
       "Likes                  False\n",
       "Dislikes               False\n",
       "Comments               False\n",
       "Aggregate Followers    False\n",
       "dtype: bool"
      ]
     },
     "execution_count": 173,
     "metadata": {},
     "output_type": "execute_result"
    }
   ],
   "source": [
    "#Pre-processing\n",
    "#menghapus NULL & NAs di Defaulted\n",
    "data[[ 'Movie','Year','Ratings', 'Genre', 'Gross', 'Budget', 'Screens', 'Sequel','Sentiment', 'Views', 'Dislikes', 'Comments', \n",
    "      'Aggregate Followers']] = data[[ 'Movie','Year','Ratings', 'Genre', 'Gross', 'Budget', 'Screens', 'Sequel', 'Sentiment', \n",
    "                                      'Views', 'Dislikes', 'Comments', 'Aggregate Followers']]\n",
    "\n",
    "data = data.dropna()\n",
    "data = data.reset_index(drop=True)\n",
    "print (\"Bentuk dataset setelah di cleaning: \", data.size)\n",
    "data.isna().any()"
   ]
  },
  {
   "cell_type": "code",
   "execution_count": 174,
   "metadata": {},
   "outputs": [
    {
     "name": "stderr",
     "output_type": "stream",
     "text": [
      "C:\\Users\\L\\Anaconda3\\lib\\site-packages\\sklearn\\utils\\validation.py:595: DataConversionWarning: Data with input dtype object was converted to float64 by StandardScaler.\n",
      "  warnings.warn(msg, DataConversionWarning)\n",
      "C:\\Users\\L\\Anaconda3\\lib\\site-packages\\sklearn\\utils\\validation.py:595: DataConversionWarning: Data with input dtype object was converted to float64 by StandardScaler.\n",
      "  warnings.warn(msg, DataConversionWarning)\n"
     ]
    },
    {
     "data": {
      "text/plain": [
       "array([[-0.63719309, -0.12678709,  0.66890914, ..., -0.2235617 ,\n",
       "        -0.34389858, -0.40827536],\n",
       "       [-0.63719309,  0.67691415, -1.02799409, ..., -0.50106408,\n",
       "        -0.47362538,  1.85523503],\n",
       "       [-0.63719309, -0.22724975, -1.02799409, ..., -0.52164804,\n",
       "        -0.51369654, -0.5366686 ],\n",
       "       ...,\n",
       "       [ 1.56938299, -0.83002568, -0.5431646 , ..., -0.0901471 ,\n",
       "         0.18423364,  0.12061612],\n",
       "       [ 1.56938299,  0.87783946, -0.5431646 , ..., -0.52622226,\n",
       "        -0.52320984, -0.60802058],\n",
       "       [ 1.56938299, -0.12678709, -0.5431646 , ..., -0.52698463,\n",
       "        -0.51513795, -0.39456933]])"
      ]
     },
     "execution_count": 174,
     "metadata": {},
     "output_type": "execute_result"
    }
   ],
   "source": [
    "from sklearn.preprocessing import StandardScaler\n",
    "X = data.values[:,1:]\n",
    "X = np.nan_to_num(X)\n",
    "Clus_dataSet = StandardScaler().fit_transform(X)\n",
    "Clus_dataSet"
   ]
  },
  {
   "cell_type": "code",
   "execution_count": 175,
   "metadata": {},
   "outputs": [
    {
     "data": {
      "image/png": "[encoded data removed]",
      "text/plain": [
       "<Figure size 432x288 with 1 Axes>"
      ]
     },
     "metadata": {
      "needs_background": "light"
     },
     "output_type": "display_data"
    }
   ],
   "source": [
    "from sklearn.cluster import KMeans \n",
    "wcss = []\n",
    "for i in range(1, 11):\n",
    "    k_means = KMeans(n_clusters = i, init = 'k-means++', n_init = 12)\n",
    "    k_means.fit(X)\n",
    "    wcss.append(k_means.inertia_)\n",
    "plt.plot(range(1, 11), wcss)\n",
    "plt.title('Metode Elbow')\n",
    "plt.xlabel('Jumlah cluster')\n",
    "plt.ylabel('WCSS')\n",
    "plt.show()"
   ]
  },
  {
   "cell_type": "code",
   "execution_count": 176,
   "metadata": {},
   "outputs": [
    {
     "name": "stdout",
     "output_type": "stream",
     "text": [
      "[0 2 0 2 0 0 0 0 0 1 0 0 2 0 0 0 0 1 0 0 0 0 0 1 1 0 0 2 0 0 0 0 2 0 0 2 0\n",
      " 0 1 2 1 0 2 0 2 0 0 2 0 2 0 0 0 2 0 0 0 1 0 0 0 2 0 0 2 2 0 2 2 0 2 0 2 0\n",
      " 0 2 2 2 0 0 0 0 0 0 0 0 2 0 2 0 1 0 0 0 2 0 2 0 0 0 1 0 0 1 0 0 0 1 0 2 2\n",
      " 0 0 0 0 0 0 0 0 0 0 0 1 0 2 0 0 0 0 0 0 1 0 1 1 1 1 1 2 2 2 2 2 2 2 2 2 2\n",
      " 2 2 2 2 2 0 2 0 0 0 2 0 2 0 0 0 0 0 0 0 0 0 0 0 0 0 0 0 0 0 0 0 0 0 0 0 0\n",
      " 0 0]\n"
     ]
    }
   ],
   "source": [
    "k_means = KMeans(n_clusters = 3, init = 'k-means++',  n_init = 12)\n",
    "y_kmeans = k_means.fit_predict(X)\n",
    "print(y_kmeans)"
   ]
  },
  {
   "cell_type": "code",
   "execution_count": 158,
   "metadata": {},
   "outputs": [
    {
     "data": {
      "text/html": [
       "<div>\n",
       "<style scoped>\n",
       "    .dataframe tbody tr th:only-of-type {\n",
       "        vertical-align: middle;\n",
       "    }\n",
       "\n",
       "    .dataframe tbody tr th {\n",
       "        vertical-align: top;\n",
       "    }\n",
       "\n",
       "    .dataframe thead th {\n",
       "        text-align: right;\n",
       "    }\n",
       "</style>\n",
       "<table border=\"1\" class=\"dataframe\">\n",
       "  <thead>\n",
       "    <tr style=\"text-align: right;\">\n",
       "      <th></th>\n",
       "      <th>Movie</th>\n",
       "      <th>Year</th>\n",
       "      <th>Ratings</th>\n",
       "      <th>Genre</th>\n",
       "      <th>Gross</th>\n",
       "      <th>Budget</th>\n",
       "      <th>Screens</th>\n",
       "      <th>Sequel</th>\n",
       "      <th>Sentiment</th>\n",
       "      <th>Views</th>\n",
       "      <th>Likes</th>\n",
       "      <th>Dislikes</th>\n",
       "      <th>Comments</th>\n",
       "      <th>Aggregate Followers</th>\n",
       "      <th>Cluster</th>\n",
       "    </tr>\n",
       "  </thead>\n",
       "  <tbody>\n",
       "    <tr>\n",
       "      <th>0</th>\n",
       "      <td>13 Sins</td>\n",
       "      <td>2014.0</td>\n",
       "      <td>6.3</td>\n",
       "      <td>8.0</td>\n",
       "      <td>9130.0</td>\n",
       "      <td>4000000.0</td>\n",
       "      <td>45.0</td>\n",
       "      <td>1.0</td>\n",
       "      <td>0.0</td>\n",
       "      <td>3280543.0</td>\n",
       "      <td>4632.0</td>\n",
       "      <td>425.0</td>\n",
       "      <td>636.0</td>\n",
       "      <td>1120000.0</td>\n",
       "      <td>0</td>\n",
       "    </tr>\n",
       "    <tr>\n",
       "      <th>1</th>\n",
       "      <td>22 Jump Street</td>\n",
       "      <td>2014.0</td>\n",
       "      <td>7.1</td>\n",
       "      <td>1.0</td>\n",
       "      <td>192000000.0</td>\n",
       "      <td>50000000.0</td>\n",
       "      <td>3306.0</td>\n",
       "      <td>2.0</td>\n",
       "      <td>2.0</td>\n",
       "      <td>583289.0</td>\n",
       "      <td>3465.0</td>\n",
       "      <td>61.0</td>\n",
       "      <td>186.0</td>\n",
       "      <td>12350000.0</td>\n",
       "      <td>2</td>\n",
       "    </tr>\n",
       "    <tr>\n",
       "      <th>2</th>\n",
       "      <td>3 Days to Kill</td>\n",
       "      <td>2014.0</td>\n",
       "      <td>6.2</td>\n",
       "      <td>1.0</td>\n",
       "      <td>30700000.0</td>\n",
       "      <td>28000000.0</td>\n",
       "      <td>2872.0</td>\n",
       "      <td>1.0</td>\n",
       "      <td>0.0</td>\n",
       "      <td>304861.0</td>\n",
       "      <td>328.0</td>\n",
       "      <td>34.0</td>\n",
       "      <td>47.0</td>\n",
       "      <td>483000.0</td>\n",
       "      <td>0</td>\n",
       "    </tr>\n",
       "    <tr>\n",
       "      <th>3</th>\n",
       "      <td>300: Rise of an Empire</td>\n",
       "      <td>2014.0</td>\n",
       "      <td>6.3</td>\n",
       "      <td>1.0</td>\n",
       "      <td>106000000.0</td>\n",
       "      <td>110000000.0</td>\n",
       "      <td>3470.0</td>\n",
       "      <td>2.0</td>\n",
       "      <td>0.0</td>\n",
       "      <td>452917.0</td>\n",
       "      <td>2429.0</td>\n",
       "      <td>132.0</td>\n",
       "      <td>590.0</td>\n",
       "      <td>568000.0</td>\n",
       "      <td>2</td>\n",
       "    </tr>\n",
       "    <tr>\n",
       "      <th>4</th>\n",
       "      <td>A Haunted House 2</td>\n",
       "      <td>2014.0</td>\n",
       "      <td>4.7</td>\n",
       "      <td>8.0</td>\n",
       "      <td>17300000.0</td>\n",
       "      <td>3500000.0</td>\n",
       "      <td>2310.0</td>\n",
       "      <td>2.0</td>\n",
       "      <td>0.0</td>\n",
       "      <td>3145573.0</td>\n",
       "      <td>12163.0</td>\n",
       "      <td>610.0</td>\n",
       "      <td>1082.0</td>\n",
       "      <td>1923800.0</td>\n",
       "      <td>0</td>\n",
       "    </tr>\n",
       "  </tbody>\n",
       "</table>\n",
       "</div>"
      ],
      "text/plain": [
       "                    Movie    Year  Ratings  Genre        Gross       Budget  \\\n",
       "0                 13 Sins  2014.0      6.3    8.0       9130.0    4000000.0   \n",
       "1          22 Jump Street  2014.0      7.1    1.0  192000000.0   50000000.0   \n",
       "2          3 Days to Kill  2014.0      6.2    1.0   30700000.0   28000000.0   \n",
       "3  300: Rise of an Empire  2014.0      6.3    1.0  106000000.0  110000000.0   \n",
       "4       A Haunted House 2  2014.0      4.7    8.0   17300000.0    3500000.0   \n",
       "\n",
       "   Screens  Sequel  Sentiment      Views    Likes  Dislikes  Comments  \\\n",
       "0     45.0     1.0        0.0  3280543.0   4632.0     425.0     636.0   \n",
       "1   3306.0     2.0        2.0   583289.0   3465.0      61.0     186.0   \n",
       "2   2872.0     1.0        0.0   304861.0    328.0      34.0      47.0   \n",
       "3   3470.0     2.0        0.0   452917.0   2429.0     132.0     590.0   \n",
       "4   2310.0     2.0        0.0  3145573.0  12163.0     610.0    1082.0   \n",
       "\n",
       "   Aggregate Followers  Cluster  \n",
       "0            1120000.0        0  \n",
       "1           12350000.0        2  \n",
       "2             483000.0        0  \n",
       "3             568000.0        2  \n",
       "4            1923800.0        0  "
      ]
     },
     "execution_count": 158,
     "metadata": {},
     "output_type": "execute_result"
    }
   ],
   "source": [
    "data[\"Cluster\"] = y_kmeans\n",
    "data.head(5)"
   ]
  },
  {
   "cell_type": "code",
   "execution_count": 159,
   "metadata": {},
   "outputs": [
    {
     "data": {
      "text/html": [
       "<div>\n",
       "<style scoped>\n",
       "    .dataframe tbody tr th:only-of-type {\n",
       "        vertical-align: middle;\n",
       "    }\n",
       "\n",
       "    .dataframe tbody tr th {\n",
       "        vertical-align: top;\n",
       "    }\n",
       "\n",
       "    .dataframe thead th {\n",
       "        text-align: right;\n",
       "    }\n",
       "</style>\n",
       "<table border=\"1\" class=\"dataframe\">\n",
       "  <thead>\n",
       "    <tr style=\"text-align: right;\">\n",
       "      <th></th>\n",
       "      <th>Year</th>\n",
       "      <th>Ratings</th>\n",
       "      <th>Genre</th>\n",
       "      <th>Gross</th>\n",
       "      <th>Budget</th>\n",
       "      <th>Screens</th>\n",
       "      <th>Sequel</th>\n",
       "      <th>Sentiment</th>\n",
       "      <th>Views</th>\n",
       "      <th>Likes</th>\n",
       "      <th>Dislikes</th>\n",
       "      <th>Comments</th>\n",
       "      <th>Aggregate Followers</th>\n",
       "    </tr>\n",
       "    <tr>\n",
       "      <th>Cluster</th>\n",
       "      <th></th>\n",
       "      <th></th>\n",
       "      <th></th>\n",
       "      <th></th>\n",
       "      <th></th>\n",
       "      <th></th>\n",
       "      <th></th>\n",
       "      <th></th>\n",
       "      <th></th>\n",
       "      <th></th>\n",
       "      <th></th>\n",
       "      <th></th>\n",
       "      <th></th>\n",
       "    </tr>\n",
       "  </thead>\n",
       "  <tbody>\n",
       "    <tr>\n",
       "      <th>0</th>\n",
       "      <td>2014.254098</td>\n",
       "      <td>6.186885</td>\n",
       "      <td>5.959016</td>\n",
       "      <td>2.820966e+07</td>\n",
       "      <td>2.377949e+07</td>\n",
       "      <td>1761.721311</td>\n",
       "      <td>1.237705</td>\n",
       "      <td>3.000000</td>\n",
       "      <td>3.330247e+06</td>\n",
       "      <td>9380.704918</td>\n",
       "      <td>520.524590</td>\n",
       "      <td>1275.991803</td>\n",
       "      <td>2.357646e+06</td>\n",
       "    </tr>\n",
       "    <tr>\n",
       "      <th>1</th>\n",
       "      <td>2014.277778</td>\n",
       "      <td>7.377778</td>\n",
       "      <td>2.944444</td>\n",
       "      <td>3.038333e+08</td>\n",
       "      <td>1.643222e+08</td>\n",
       "      <td>4019.777778</td>\n",
       "      <td>2.666667</td>\n",
       "      <td>2.944444</td>\n",
       "      <td>2.464435e+06</td>\n",
       "      <td>8966.944444</td>\n",
       "      <td>348.388889</td>\n",
       "      <td>1240.222222</td>\n",
       "      <td>5.420202e+06</td>\n",
       "    </tr>\n",
       "    <tr>\n",
       "      <th>2</th>\n",
       "      <td>2014.382979</td>\n",
       "      <td>6.682979</td>\n",
       "      <td>4.255319</td>\n",
       "      <td>1.193489e+08</td>\n",
       "      <td>8.957447e+07</td>\n",
       "      <td>3174.893617</td>\n",
       "      <td>1.489362</td>\n",
       "      <td>2.404255</td>\n",
       "      <td>6.053563e+06</td>\n",
       "      <td>23915.340426</td>\n",
       "      <td>1373.127660</td>\n",
       "      <td>3489.659574</td>\n",
       "      <td>4.319742e+06</td>\n",
       "    </tr>\n",
       "  </tbody>\n",
       "</table>\n",
       "</div>"
      ],
      "text/plain": [
       "                Year   Ratings     Genre         Gross        Budget  \\\n",
       "Cluster                                                                \n",
       "0        2014.254098  6.186885  5.959016  2.820966e+07  2.377949e+07   \n",
       "1        2014.277778  7.377778  2.944444  3.038333e+08  1.643222e+08   \n",
       "2        2014.382979  6.682979  4.255319  1.193489e+08  8.957447e+07   \n",
       "\n",
       "             Screens    Sequel  Sentiment         Views         Likes  \\\n",
       "Cluster                                                                 \n",
       "0        1761.721311  1.237705   3.000000  3.330247e+06   9380.704918   \n",
       "1        4019.777778  2.666667   2.944444  2.464435e+06   8966.944444   \n",
       "2        3174.893617  1.489362   2.404255  6.053563e+06  23915.340426   \n",
       "\n",
       "            Dislikes     Comments  Aggregate Followers  \n",
       "Cluster                                                 \n",
       "0         520.524590  1275.991803         2.357646e+06  \n",
       "1         348.388889  1240.222222         5.420202e+06  \n",
       "2        1373.127660  3489.659574         4.319742e+06  "
      ]
     },
     "execution_count": 159,
     "metadata": {},
     "output_type": "execute_result"
    }
   ],
   "source": [
    "data.groupby('Cluster').mean()"
   ]
  },
  {
   "cell_type": "code",
   "execution_count": 168,
   "metadata": {},
   "outputs": [
    {
     "data": {
      "image/png": "[encoded data removed]",
      "text/plain": [
       "<Figure size 1152x1008 with 1 Axes>"
      ]
     },
     "metadata": {
      "needs_background": "light"
     },
     "output_type": "display_data"
    }
   ],
   "source": [
    "# Visualisasi hasil clusters\n",
    "fig = plt.figure(figsize=(16, 14))\n",
    "plt.scatter(X[y_kmeans == 0, 4], X[y_kmeans == 0, 9], s = 30, c = 'red', label = 'Cluster 1', alpha=0.5)\n",
    "plt.scatter(X[y_kmeans == 1, 4], X[y_kmeans == 1, 9], s = 30, c = 'blue', label = 'Cluster 2', alpha=0.5)\n",
    "plt.scatter(X[y_kmeans == 2, 4], X[y_kmeans == 2, 9], s = 30, c = 'green', label = 'Cluster 3', alpha=0.5)\n",
    "plt.scatter(k_means.cluster_centers_[:,4], k_means.cluster_centers_[:,9], s = 300, c = 'yellow', label = 'Centroids')\n",
    "plt.title('Clusters')\n",
    "plt.xlabel('Biaya Pembuatan Film')\n",
    "plt.ylabel('Penonton')\n",
    "plt.legend()\n",
    "plt.show()"
   ]
  },
  {
   "cell_type": "code",
   "execution_count": null,
   "metadata": {},
   "outputs": [],
   "source": []
  }
 ],
 "metadata": {
  "kernelspec": {
   "display_name": "Python 3",
   "language": "python",
   "name": "python3"
  },
  "language_info": {
   "codemirror_mode": {
    "name": "ipython",
    "version": 3
   },
   "file_extension": ".py",
   "mimetype": "text/x-python",
   "name": "python",
   "nbconvert_exporter": "python",
   "pygments_lexer": "ipython3",
   "version": "3.7.3"
  }
 },
 "nbformat": 4,
 "nbformat_minor": 2
}
